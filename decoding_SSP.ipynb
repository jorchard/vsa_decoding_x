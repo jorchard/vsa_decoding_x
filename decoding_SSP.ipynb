{
 "cells": [
  {
   "cell_type": "markdown",
   "metadata": {},
   "source": [
    "# Decoding an SSP\n",
    "Purpose: To demonstrate how we can use least-squares to decode the exponent of an SSP."
   ]
  },
  {
   "cell_type": "markdown",
   "metadata": {},
   "source": [
    "Let the Fourier coefs of the SSP be $P_n \\in \\mathbb{C}$, for $n=0, \\ldots , N-1$. Also assume that $P$ is unitary, so $\\| P_n \\|=1$. Hence, we can write $P_n$ as $e^{i a_n}$.\n",
    "\n",
    "When we encode $x$ in the SSP, we get $S(x) = P^x$, which means that the $n$th coef is $P_n^x = e^{i a_n x}$.\n",
    "\n",
    "Suppose the phases, $a_n$, are sorted, such that $a_0 < a_1 < \\cdots < a_{N-1}$.\n",
    "\n",
    "The phase difference between node $j$ and $k$ can be computed:\n",
    "$$\n",
    "P_j \\, \\overline{P_k} = e^{i(a_j - a_k) x}\n",
    "$$\n",
    "\n",
    "Suppose the actual (measured) phases of the SSP are $\\phi_n$. Then, the measured phase difference between nodes $j$ and $k$ is $\\phi_j - \\phi_k$, and we have\n",
    "\\begin{align}\n",
    "\\phi_j - \\phi_k &\\approx (a_j - a_k) x \\\\\n",
    "\\Delta \\phi_{jk} &\\approx \\Delta a_{jk} x\n",
    "\\end{align}\n",
    "If $a_j$ and $a_k$ are not too different, then there is a better chance that $\\Delta \\phi_{jk} \\in (-\\pi, \\pi]$, so less chance of phase wrapping.\n",
    "\n",
    "Suppose we formulate many such couplings,\n",
    "\\begin{align}\n",
    "\\Delta \\phi_{01} &\\approx \\Delta a_{01} x \\\\\n",
    "\\Delta \\phi_{12} &\\approx \\Delta a_{12} x \\\\\n",
    "&\\vdots \\\\\n",
    "\\Delta \\phi_{N-2,N-1} &\\approx \\Delta a_{N-2,N-1} x\n",
    "\\end{align}\n",
    "\n",
    "Formulating as a least-squares problem,\n",
    "\\begin{align}\n",
    "\\Delta \\Phi &\\approx \\Delta A x \\\\\n",
    "&\\rightarrow \\min_x \\| \\Delta \\Phi - \\Delta A x \\|^2\n",
    "\\end{align}\n",
    "\n",
    "For a chosen SSP, we know $\\Delta A$, and we can get $\\Delta \\Phi$ from the nodes.\n",
    "\n",
    "The only caveat is that phase-wrapping can cause outliers that disrupt the least-squares fit. So, we try to intelligently ignore outliers and solve the (robust) least-squares problem iteratively. \n",
    "\n",
    "This idea is taken from [Patrick Ji's MMath thesis](https://uwspace.uwaterloo.ca/handle/10012/8663)."
   ]
  },
  {
   "cell_type": "code",
   "execution_count": 1,
   "metadata": {},
   "outputs": [],
   "source": [
    "from numpy import *\n",
    "from matplotlib.pyplot import *\n",
    "from copy import deepcopy\n",
    "#from IPython.display import display, HTML\n",
    "#display(HTML(\"<style>.container { width:98% !important; }</style>\"))\n",
    "#%matplotlib notebook"
   ]
  },
  {
   "cell_type": "markdown",
   "metadata": {},
   "source": [
    "## `MySP` class"
   ]
  },
  {
   "cell_type": "code",
   "execution_count": 2,
   "metadata": {},
   "outputs": [],
   "source": [
    "from numpy.fft import fft, ifft\n",
    "class MySP():\n",
    "    def __init__(self, D=10, v=None):\n",
    "        '''\n",
    "         Makes a vector with Fourier coefs that are unit-modulus, and\n",
    "         conjugate-symmetric.\n",
    "        '''\n",
    "        self.D = D\n",
    "        if v is None:\n",
    "            angles = random.normal(size=self.D)*2. #*pi\n",
    "            #angles = -sort(-angles)\n",
    "            D2 = (self.D+1)//2\n",
    "            angles[-D2+1:] = flip(-angles[1:D2])\n",
    "            angles[0] = 0.\n",
    "            if self.D%2==0:\n",
    "                angles[D2] = 0.\n",
    "            self.v = real(ifft(exp(1.j*angles)))\n",
    "            self.a = angles\n",
    "        else:\n",
    "            self.v = v\n",
    "            #self._unitary()\n",
    "    \n",
    "    def make_zero(self):\n",
    "        self.v[:] = 0.\n",
    "        \n",
    "    def __repr__(self):\n",
    "        return str(self.v)\n",
    "    \n",
    "    def unitary(self):\n",
    "        v = real( ifft( exp(1.j*angle(fft(self.v))) ) )\n",
    "        return MySP(v=v)\n",
    "    \n",
    "    def __mul__(self, s):\n",
    "        '''v = sp*s Scalar multiplication of SP vector'''\n",
    "        return MySP(v=self.v*s)\n",
    "    \n",
    "    def bind(self, y):\n",
    "        s = real(ifft(fft(self.v)*fft(y.v)))\n",
    "        return MySP(v=s)\n",
    "        \n",
    "    def _bind(self, y):\n",
    "        self.v = real(ifft(fft(self.v)*fft(y.v)))\n",
    "        \n",
    "    def unbind(self, y):\n",
    "        s = real(ifft(fft(self.v)/fft(y.v)))\n",
    "        return MySP(v=s)\n",
    "    \n",
    "    def bundle(self, y):\n",
    "        s = self.v + y.v\n",
    "        return MySP(v=s)\n",
    "    \n",
    "    def _bundle(self, y):\n",
    "        self.v += y.v\n",
    "        \n",
    "    def power(self, p):\n",
    "        v = ifft( fft(self.v)**p )\n",
    "        return MySP(v=np.real(v))\n",
    "    \n",
    "    def similarity(self, y):\n",
    "        d = np.dot(self.v, y.v)\n",
    "        return d"
   ]
  },
  {
   "cell_type": "markdown",
   "metadata": {},
   "source": [
    "### Demonstrate `MySP` class"
   ]
  },
  {
   "cell_type": "code",
   "execution_count": 3,
   "metadata": {},
   "outputs": [
    {
     "name": "stdout",
     "output_type": "stream",
     "text": [
      "x = foo*bar + doh\n",
      "d(x, foo) = 0.15674766819389502\n",
      "d(x, bar) = 0.06553053124187148\n",
      "d(x, doh) = 0.6383936852814045\n"
     ]
    }
   ],
   "source": [
    "D = 256\n",
    "foo = MySP(D=D)\n",
    "bar = MySP(D=D)\n",
    "doh = MySP(D=D)\n",
    "x = foo.bind(bar).bundle(doh).unitary()\n",
    "#x = foo_bar.bundle(doh)\n",
    "#foo_bar_u = foo_bar.unitary()\n",
    "print(f'x = foo*bar + doh')\n",
    "print(f'd(x, foo) = {x.similarity(foo)}')\n",
    "print(f'd(x, bar) = {x.similarity(bar)}')\n",
    "print(f'd(x, doh) = {x.similarity(doh)}')"
   ]
  },
  {
   "cell_type": "code",
   "execution_count": 4,
   "metadata": {},
   "outputs": [
    {
     "name": "stdout",
     "output_type": "stream",
     "text": [
      "d(x*(~bar), foo) = 0.6383936852814053\n",
      "d(x*(~bar), bar) = 0.09556263611844382\n"
     ]
    }
   ],
   "source": [
    "blah = x.unbind(bar)\n",
    "print(f'd(x*(~bar), foo) = {blah.similarity(foo)}')\n",
    "print(f'd(x*(~bar), bar) = {blah.similarity(bar)}')"
   ]
  },
  {
   "cell_type": "markdown",
   "metadata": {},
   "source": [
    "## `HRR` class"
   ]
  },
  {
   "cell_type": "code",
   "execution_count": 5,
   "metadata": {},
   "outputs": [],
   "source": [
    "class HRR():\n",
    "    def __init__(self, N, D):\n",
    "        self.N = N  # number of pointers in the vocabulary\n",
    "        self.D = D  # dimension of vectors\n",
    "        self.vocab = []\n",
    "        for k in range(N):\n",
    "            self.vocab.append(MySP(D=self.D))\n",
    "\n",
    "    def __call__(self, idx):\n",
    "        return self.vocab[idx]\n",
    "\n",
    "    def cleanup(self, x):\n",
    "        '''\n",
    "         v, k, sim = vsa.cleanup(x)\n",
    "         Return the symbol vector that is most similar to x.\n",
    "         v is the vector, k is the vocab index, and sim is\n",
    "         the cosine similarity.\n",
    "        '''\n",
    "        closest = -1\n",
    "        max_sim = -1.e50\n",
    "        for k,s in enumerate(self.vocab):\n",
    "            sim = x.similarity(s)\n",
    "            if sim>max_sim:\n",
    "                closest = k\n",
    "                max_sim = sim\n",
    "        return self(closest), closest, max_sim"
   ]
  },
  {
   "cell_type": "markdown",
   "metadata": {
    "heading_collapsed": true
   },
   "source": [
    "### Demonstrate `HRR` class"
   ]
  },
  {
   "cell_type": "code",
   "execution_count": 6,
   "metadata": {
    "hidden": true
   },
   "outputs": [],
   "source": [
    "vsa = HRR(20, 256)"
   ]
  },
  {
   "cell_type": "code",
   "execution_count": 7,
   "metadata": {
    "hidden": true
   },
   "outputs": [
    {
     "name": "stdout",
     "output_type": "stream",
     "text": [
      "x = v1*v2 + v3\n",
      "d(x, v1) = 0.11293904262275037\n",
      "d(x, v2) = 0.18102735615409804\n",
      "d(x, v3) = 0.6232803380266955\n"
     ]
    }
   ],
   "source": [
    "x = vsa(1).bind(vsa(2)).bundle(vsa(3)).unitary()\n",
    "print(f'x = v1*v2 + v3')\n",
    "print(f'd(x, v1) = {x.similarity(vsa(1))}')\n",
    "print(f'd(x, v2) = {x.similarity(vsa(2))}')\n",
    "print(f'd(x, v3) = {x.similarity(vsa(3))}')"
   ]
  },
  {
   "cell_type": "code",
   "execution_count": 8,
   "metadata": {
    "hidden": true
   },
   "outputs": [
    {
     "name": "stdout",
     "output_type": "stream",
     "text": [
      "d(x*(~v2), v1) = 0.623280338026696\n",
      "d(x*(~v2), v2) = -0.013587057636206271\n",
      "d(x*(~v2), v3) = 0.11293904262275029\n"
     ]
    }
   ],
   "source": [
    "blah = x.unbind(vsa(2))\n",
    "print(f'd(x*(~v2), v1) = {blah.similarity(vsa(1))}')\n",
    "print(f'd(x*(~v2), v2) = {blah.similarity(vsa(2))}')\n",
    "print(f'd(x*(~v2), v3) = {blah.similarity(vsa(3))}')"
   ]
  },
  {
   "cell_type": "code",
   "execution_count": 9,
   "metadata": {
    "hidden": true
   },
   "outputs": [
    {
     "data": {
      "text/plain": [
       "1"
      ]
     },
     "execution_count": 9,
     "metadata": {},
     "output_type": "execute_result"
    }
   ],
   "source": [
    "# This should return 1\n",
    "vsa.cleanup(blah)[1]"
   ]
  },
  {
   "cell_type": "markdown",
   "metadata": {},
   "source": [
    "## Decoding $x$ from and SSP"
   ]
  },
  {
   "cell_type": "code",
   "execution_count": 10,
   "metadata": {},
   "outputs": [],
   "source": [
    "# Create an HRR and grab one of the SSPs\n",
    "vsa = HRR(20, 128)  # Number of SPs, dimension"
   ]
  },
  {
   "cell_type": "code",
   "execution_count": 11,
   "metadata": {},
   "outputs": [],
   "source": [
    "sp = vsa(0)  # MySP object, index 0"
   ]
  },
  {
   "cell_type": "code",
   "execution_count": 12,
   "metadata": {},
   "outputs": [
    {
     "name": "stdout",
     "output_type": "stream",
     "text": [
      "[ 0.13392781 -0.05076986 -0.079855   -0.11138068  0.05579024  0.16591792\n",
      " -0.10147318 -0.02767192  0.06870375 -0.15695813 -0.05024402 -0.02916815\n",
      " -0.06813337 -0.03895615  0.05725716  0.12523926 -0.02325628  0.02255227\n",
      " -0.0022408  -0.04539014 -0.09280159  0.07664742 -0.0191372  -0.05066483\n",
      "  0.07266754 -0.00110868  0.23262652  0.12516032  0.04157838  0.00925003\n",
      "  0.03069102 -0.15733725  0.00812003  0.03062124  0.03099245 -0.09589359\n",
      "  0.08709031  0.07839595  0.04893242  0.05887105 -0.05359949 -0.01961888\n",
      "  0.08834024 -0.05369656  0.05020649 -0.01300788 -0.07491682 -0.05079401\n",
      "  0.0628185  -0.06472538  0.10148809  0.00737822  0.24784527 -0.00331239\n",
      "  0.03099691  0.11865686  0.11944798  0.0624747   0.08720212  0.04536413\n",
      "  0.0471169  -0.15532082 -0.01399292 -0.00434888 -0.1104933   0.10397192\n",
      " -0.17172604  0.0249859  -0.04092301  0.08072796  0.13564555 -0.0110067\n",
      " -0.02620144  0.105192    0.08622711  0.02397514  0.06891196  0.06946324\n",
      " -0.12559562  0.01868682 -0.09818786 -0.04395623  0.19056464  0.12356665\n",
      " -0.10271453 -0.08245969 -0.02107018 -0.07939671 -0.14322484 -0.07314429\n",
      "  0.07441792  0.06288871 -0.02749851 -0.03736116  0.01581536 -0.05674231\n",
      " -0.19646318  0.08694899  0.03592189 -0.02770096  0.01228126 -0.24091644\n",
      "  0.00379116  0.00523049  0.03196786  0.01405353 -0.00269242  0.01283155\n",
      " -0.1063316   0.07546493 -0.00347413  0.08341144 -0.14266688  0.0919707\n",
      "  0.04255578 -0.08401026  0.1404839   0.00852578  0.17466222  0.04456925\n",
      " -0.06854847 -0.11557375  0.17219357  0.05658868  0.05684452 -0.05380533\n",
      "  0.02133784  0.01661501]\n"
     ]
    }
   ],
   "source": [
    "# You can see the spatial-domain SSP\n",
    "print(sp.v)"
   ]
  },
  {
   "cell_type": "code",
   "execution_count": 13,
   "metadata": {},
   "outputs": [
    {
     "name": "stdout",
     "output_type": "stream",
     "text": [
      "[ 0.         -1.95604353 -5.45377251  1.81617672  2.08281242  0.0802225\n",
      "  3.12123038 -0.14969873 -3.0723079   0.90883712 -1.21207397 -1.20233827\n",
      "  2.76904074  2.62976076  1.09834027  1.72339341 -2.34483547  0.8347611\n",
      "  1.62040556  3.84946244 -0.5374772  -1.65722291  0.58187879  1.4746547\n",
      " -0.11512493 -0.55184117  0.46726353  0.63977195  0.34491254  1.9782737\n",
      " -0.24433918  1.10928791 -3.27966393 -2.02974839  0.6040016  -0.5201758\n",
      " -2.01511042 -0.48839929  3.23344674 -1.93725158 -2.06665478 -2.77833146\n",
      "  0.71756637  1.29576797 -1.57216695  1.19043963  1.66307984  1.62576726\n",
      "  2.4503282  -0.16110547 -1.51274399  1.35099086 -1.61968437  0.08762785\n",
      " -0.73485016  0.98358565  2.99758622 -2.54998793  3.50493287 -0.18305702\n",
      " -1.16758061  0.10405475 -1.66689178  1.18774252  0.         -1.18774252\n",
      "  1.66689178 -0.10405475  1.16758061  0.18305702 -3.50493287  2.54998793\n",
      " -2.99758622 -0.98358565  0.73485016 -0.08762785  1.61968437 -1.35099086\n",
      "  1.51274399  0.16110547 -2.4503282  -1.62576726 -1.66307984 -1.19043963\n",
      "  1.57216695 -1.29576797 -0.71756637  2.77833146  2.06665478  1.93725158\n",
      " -3.23344674  0.48839929  2.01511042  0.5201758  -0.6040016   2.02974839\n",
      "  3.27966393 -1.10928791  0.24433918 -1.9782737  -0.34491254 -0.63977195\n",
      " -0.46726353  0.55184117  0.11512493 -1.4746547  -0.58187879  1.65722291\n",
      "  0.5374772  -3.84946244 -1.62040556 -0.8347611   2.34483547 -1.72339341\n",
      " -1.09834027 -2.62976076 -2.76904074  1.20233827  1.21207397 -0.90883712\n",
      "  3.0723079   0.14969873 -3.12123038 -0.0802225  -2.08281242 -1.81617672\n",
      "  5.45377251  1.95604353]\n"
     ]
    }
   ],
   "source": [
    "# You can also see the original phases\n",
    "print(sp.a)"
   ]
  },
  {
   "cell_type": "code",
   "execution_count": 14,
   "metadata": {},
   "outputs": [],
   "source": [
    "# We want to create couplings by matching elements with similar phases.\n",
    "# Sort the phases\n",
    "sidx = argsort(sp.a)  # sidx are the indices\n",
    "\n",
    "# Create couplings between adjacent elements...\n",
    "couplings = list(zip(sidx[:-1], sidx[1:]))\n",
    "# ... as well as elements one-removed (not necessary).\n",
    "couplings.extend(zip(sidx[:-2], sidx[2:]))"
   ]
  },
  {
   "cell_type": "code",
   "execution_count": 15,
   "metadata": {},
   "outputs": [],
   "source": [
    "# Record the Delta-A differences for the couplings\n",
    "DeltaA = array([sp.a[c[0]]-sp.a[c[1]] for c in couplings])"
   ]
  },
  {
   "cell_type": "markdown",
   "metadata": {},
   "source": [
    "### Now let's encode a secret $x$-value"
   ]
  },
  {
   "cell_type": "code",
   "execution_count": 16,
   "metadata": {},
   "outputs": [],
   "source": [
    "true_x = random.normal()   # Shhhh... it's a secret!\n",
    "spx = sp.power(true_x)     # SSP encoding true_x"
   ]
  },
  {
   "cell_type": "code",
   "execution_count": 17,
   "metadata": {},
   "outputs": [],
   "source": [
    "# Get the phase differences for the couplings.\n",
    "V = fft(spx.v)  # Fourier coefficients\n",
    "DeltaPhi = array([angle(V[c[0]]*conj(V[c[1]])) for c in couplings])"
   ]
  },
  {
   "cell_type": "code",
   "execution_count": 18,
   "metadata": {},
   "outputs": [
    {
     "name": "stdout",
     "output_type": "stream",
     "text": [
      "Iter 1: x = 0.0\n",
      "Iter 2: x = 0.4835733999614269\n",
      "Iter 3: x = 0.7823636892558621\n",
      "Iter 4: x = 0.9669802065907144\n",
      "Iter 5: x = 1.081051043877074\n",
      "Iter 6: x = 1.151533122658844\n",
      "Iter 7: x = 1.1950825832184162\n",
      "Iter 8: x = 1.3117292974180146\n",
      "Iter 9: x = 1.2351533613383407\n",
      "Iter 10: x = 1.2854237356623393\n",
      "Iter 11: x = 1.2524223691227834\n",
      "Iter 12: x = 1.274087021676568\n",
      "Iter 13: x = 1.2598646660746071\n",
      "Iter 14: x = 1.2692013216413862\n",
      "Iter 15: x = 1.2630720179161548\n",
      "Iter 16: x = 1.2670957675219352\n",
      "Iter 17: x = 1.2644542666898964\n",
      "Iter 18: x = 1.2661883523883797\n",
      "Iter 19: x = 1.2650499642519037\n",
      "Iter 20: x = 1.2657972903790973\n",
      "Iter 21: x = 1.2653066876378258\n",
      "Iter 22: x = 1.2656287572684528\n",
      "Iter 23: x = 1.2654173258225065\n",
      "Iter 24: x = 1.2655561257964372\n",
      "Final estimate of x = 1.2654650067451678\n",
      "True value of x = 1.2655011180739149\n"
     ]
    }
   ],
   "source": [
    "x = 0.             # initial guess\n",
    "\n",
    "kappa = 0.1        # gradient descent step size\n",
    "\n",
    "max_iters = 100\n",
    "\n",
    "for iter in range(1,max_iters):\n",
    "    print(f'Iter {iter}: x = {x}')\n",
    "    \n",
    "    # Compute residual\n",
    "    resid = DeltaPhi - DeltaA * x\n",
    "    \n",
    "    # Ignore outliers (stupid phase-wrapping!!)\n",
    "    outliers = abs(resid)>1./iter\n",
    "    resid[outliers] = 0.\n",
    "    \n",
    "    # Update x using gradient descent on least squares\n",
    "    x_increment = kappa * (DeltaA @ resid)\n",
    "    x += x_increment\n",
    "    \n",
    "    # If increments are small, stop!\n",
    "    if abs(x_increment)<0.0001:\n",
    "        break\n",
    "    \n",
    "print(f'Final estimate of x = {x}')\n",
    "print(f'True value of x = {true_x}')"
   ]
  },
  {
   "cell_type": "code",
   "execution_count": null,
   "metadata": {},
   "outputs": [],
   "source": []
  }
 ],
 "metadata": {
  "@webio": {
   "lastCommId": null,
   "lastKernelId": null
  },
  "kernelspec": {
   "display_name": "Python 3 (ipykernel)",
   "language": "python",
   "name": "python3"
  },
  "language_info": {
   "codemirror_mode": {
    "name": "ipython",
    "version": 3
   },
   "file_extension": ".py",
   "mimetype": "text/x-python",
   "name": "python",
   "nbconvert_exporter": "python",
   "pygments_lexer": "ipython3",
   "version": "3.9.12"
  },
  "toc": {
   "base_numbering": 1,
   "nav_menu": {},
   "number_sections": true,
   "sideBar": false,
   "skip_h1_title": false,
   "title_cell": "Table of Contents",
   "title_sidebar": "Contents",
   "toc_cell": false,
   "toc_position": {},
   "toc_section_display": true,
   "toc_window_display": false
  }
 },
 "nbformat": 4,
 "nbformat_minor": 4
}
